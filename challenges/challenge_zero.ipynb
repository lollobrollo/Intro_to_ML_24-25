{
 "cells": [
  {
   "cell_type": "markdown",
   "id": "2adzcfnbRZZY",
   "metadata": {
    "id": "2adzcfnbRZZY"
   },
   "source": [
    "# Challenge $0$\n"
   ]
  },
  {
   "cell_type": "markdown",
   "id": "eccd6e67",
   "metadata": {
    "id": "eccd6e67"
   },
   "source": [
    "## 1. ***Data cleaning with Pandas***\n",
    "\n",
    "Use the library `pandas` to load and clean the required dataset."
   ]
  },
  {
   "cell_type": "code",
   "execution_count": 165,
   "id": "39ae18d1",
   "metadata": {
    "id": "39ae18d1"
   },
   "outputs": [],
   "source": [
    "import numpy as np\n",
    "import matplotlib.pyplot as plt\n",
    "import pandas as pd\n",
    "import os"
   ]
  },
  {
   "cell_type": "markdown",
   "id": "6XPiwcNUPJAw",
   "metadata": {
    "id": "6XPiwcNUPJAw"
   },
   "source": [
    "Obtain the data file"
   ]
  },
  {
   "cell_type": "code",
   "execution_count": 166,
   "id": "AkGFWaHZOi-l",
   "metadata": {
    "colab": {
     "base_uri": "https://localhost:8080/"
    },
    "id": "AkGFWaHZOi-l",
    "outputId": "d3f5701e-813f-4a20-b4f6-9a696a13db68"
   },
   "outputs": [
    {
     "name": "stdout",
     "output_type": "stream",
     "text": [
      "File is readable\n"
     ]
    }
   ],
   "source": [
    "FFILE = './50_Startups.csv'\n",
    "if os.path.isfile(FFILE):\n",
    "    # print(\"File already exists\")\n",
    "    if os.access(FFILE, os.R_OK):\n",
    "        print (\"File is readable\")\n",
    "    else:\n",
    "        print (\"File is not readable, removing it and downloading again\")\n",
    "        !rm FFILE\n",
    "        !curl \"https://raw.github.com/alexdepremia/ML_IADA_UTs/main/challenge_0/50_Startups.csv\"\n",
    "else:\n",
    "    print(\"Either the file is missing or not readable, download it\")\n",
    "    !curl \"https://raw.github.com/alexdepremia/ML_IADA_UTs/main/challenge_0/50_Startups.csv\""
   ]
  },
  {
   "cell_type": "code",
   "execution_count": 167,
   "id": "984f3c35",
   "metadata": {
    "id": "984f3c35"
   },
   "outputs": [],
   "source": [
    "import pandas as pd\n",
    "\n",
    "# Load the dataset using Pandas\n",
    "data = pd.read_csv('50_Startups.csv')\n",
    "\n",
    "# Extracting the features (independent variables) and labels (dependent variable)\n",
    "# Features (X) are taken from all columns except the last two\n",
    "features = data.iloc[:, :-2].values\n",
    "\n",
    "# Labels (y) are taken from the third column (index 3, considering the 0-based index in Python)\n",
    "labels = data.iloc[:, 3].values\n",
    "\n",
    "df = pd.DataFrame(data)"
   ]
  },
  {
   "cell_type": "code",
   "execution_count": 168,
   "id": "d4ef5d4c",
   "metadata": {
    "colab": {
     "base_uri": "https://localhost:8080/"
    },
    "id": "d4ef5d4c",
    "outputId": "cf3c7846-be10-4336-c752-ab72ab27446f"
   },
   "outputs": [
    {
     "data": {
      "text/plain": [
       "array(['New York', 'California', 'Florida', 'New York', 'Florida',\n",
       "       'New York', 'California', 'Florida', 'New York', 'California',\n",
       "       'Florida', 'California', 'Florida', 'California', 'Florida',\n",
       "       'New York', 'California', 'New York', 'Florida', 'New York',\n",
       "       'California', 'New York', 'Florida', 'Florida', 'New York',\n",
       "       'California', 'Florida', 'New York', 'Florida', 'New York',\n",
       "       'Florida', 'New York', 'California', 'Florida', 'California',\n",
       "       'New York', 'Florida', 'California', 'New York', 'California',\n",
       "       'California', 'Florida', 'California', 'New York', 'California',\n",
       "       'New York', 'Florida', 'California', 'New York', 'California'],\n",
       "      dtype=object)"
      ]
     },
     "execution_count": 168,
     "metadata": {},
     "output_type": "execute_result"
    }
   ],
   "source": [
    "labels"
   ]
  },
  {
   "cell_type": "markdown",
   "id": "6c52b5bb",
   "metadata": {
    "id": "6c52b5bb"
   },
   "source": [
    "***Play with data***"
   ]
  },
  {
   "cell_type": "code",
   "execution_count": 169,
   "id": "6bc66e09",
   "metadata": {
    "colab": {
     "base_uri": "https://localhost:8080/"
    },
    "id": "6bc66e09",
    "outputId": "b6caed56-df56-4145-e1e3-74da105f824a",
    "scrolled": true
   },
   "outputs": [
    {
     "data": {
      "text/plain": [
       "(50, 5)"
      ]
     },
     "execution_count": 169,
     "metadata": {},
     "output_type": "execute_result"
    }
   ],
   "source": [
    "df.shape"
   ]
  },
  {
   "cell_type": "code",
   "execution_count": 170,
   "id": "9f5107f7",
   "metadata": {
    "colab": {
     "base_uri": "https://localhost:8080/",
     "height": 263
    },
    "id": "9f5107f7",
    "outputId": "5bb6e213-9082-45a4-b49d-515803201e70"
   },
   "outputs": [
    {
     "data": {
      "text/html": [
       "<div>\n",
       "<style scoped>\n",
       "    .dataframe tbody tr th:only-of-type {\n",
       "        vertical-align: middle;\n",
       "    }\n",
       "\n",
       "    .dataframe tbody tr th {\n",
       "        vertical-align: top;\n",
       "    }\n",
       "\n",
       "    .dataframe thead th {\n",
       "        text-align: right;\n",
       "    }\n",
       "</style>\n",
       "<table border=\"1\" class=\"dataframe\">\n",
       "  <thead>\n",
       "    <tr style=\"text-align: right;\">\n",
       "      <th></th>\n",
       "      <th>R&amp;D Spend</th>\n",
       "      <th>Administration</th>\n",
       "      <th>Marketing Spend</th>\n",
       "      <th>State</th>\n",
       "      <th>Profit</th>\n",
       "    </tr>\n",
       "  </thead>\n",
       "  <tbody>\n",
       "    <tr>\n",
       "      <th>0</th>\n",
       "      <td>165349.20</td>\n",
       "      <td>136897.80</td>\n",
       "      <td>471784.10</td>\n",
       "      <td>New York</td>\n",
       "      <td>192261.83</td>\n",
       "    </tr>\n",
       "    <tr>\n",
       "      <th>1</th>\n",
       "      <td>162597.70</td>\n",
       "      <td>151377.59</td>\n",
       "      <td>443898.53</td>\n",
       "      <td>California</td>\n",
       "      <td>191792.06</td>\n",
       "    </tr>\n",
       "    <tr>\n",
       "      <th>2</th>\n",
       "      <td>153441.51</td>\n",
       "      <td>101145.55</td>\n",
       "      <td>407934.54</td>\n",
       "      <td>Florida</td>\n",
       "      <td>191050.39</td>\n",
       "    </tr>\n",
       "    <tr>\n",
       "      <th>3</th>\n",
       "      <td>144372.41</td>\n",
       "      <td>118671.85</td>\n",
       "      <td>383199.62</td>\n",
       "      <td>New York</td>\n",
       "      <td>182901.99</td>\n",
       "    </tr>\n",
       "    <tr>\n",
       "      <th>4</th>\n",
       "      <td>142107.34</td>\n",
       "      <td>91391.77</td>\n",
       "      <td>366168.42</td>\n",
       "      <td>Florida</td>\n",
       "      <td>166187.94</td>\n",
       "    </tr>\n",
       "  </tbody>\n",
       "</table>\n",
       "</div>"
      ],
      "text/plain": [
       "   R&D Spend  Administration  Marketing Spend       State     Profit\n",
       "0  165349.20       136897.80        471784.10    New York  192261.83\n",
       "1  162597.70       151377.59        443898.53  California  191792.06\n",
       "2  153441.51       101145.55        407934.54     Florida  191050.39\n",
       "3  144372.41       118671.85        383199.62    New York  182901.99\n",
       "4  142107.34        91391.77        366168.42     Florida  166187.94"
      ]
     },
     "execution_count": 170,
     "metadata": {},
     "output_type": "execute_result"
    }
   ],
   "source": [
    "df.replace(to_replace = 0.00, value = df.mean(axis=0, numeric_only=True), inplace=True)  # inject the mean of the column when value is 0\n",
    "df.head()"
   ]
  },
  {
   "cell_type": "markdown",
   "id": "c-RZI0p4Q7TW",
   "metadata": {
    "id": "c-RZI0p4Q7TW"
   },
   "source": [
    " **`df.replace()` function:**\n",
    "   - This function is used to replace specific values within a DataFrame (`df`) with another value.\n",
    "   - The parameters used are:\n",
    "     - `to_replace=0.00`: This specifies the value in the DataFrame that needs to be replaced, in this case, `0.00`.\n",
    "     - `value=df.mean(axis=0)`: This sets the replacement value for the matched condition. Here, `df.mean(axis=0)` calculates the mean for each column along the rows (axis=0) of the DataFrame `df`. The mean value for each column will replace the `0.00` values.\n",
    "     - `inplace=True`: This parameter ensures that the modification is done directly on the original DataFrame (`df`) without creating a new DataFrame. If `inplace` is set to `True`, the original DataFrame is modified."
   ]
  },
  {
   "cell_type": "markdown",
   "id": "3bfef008",
   "metadata": {
    "id": "3bfef008"
   },
   "source": [
    "***Select two categories for binary classification***"
   ]
  },
  {
   "cell_type": "code",
   "execution_count": 171,
   "id": "57f10ca0",
   "metadata": {
    "id": "57f10ca0"
   },
   "outputs": [],
   "source": [
    "df_sel=df[(df.State==\"California\") | (df.State==\"Florida\")]"
   ]
  },
  {
   "cell_type": "code",
   "execution_count": 172,
   "id": "add6c146",
   "metadata": {
    "colab": {
     "base_uri": "https://localhost:8080/",
     "height": 206
    },
    "id": "add6c146",
    "outputId": "0f681332-4913-47f8-8640-f7db53b8b7e8"
   },
   "outputs": [
    {
     "data": {
      "text/html": [
       "<div>\n",
       "<style scoped>\n",
       "    .dataframe tbody tr th:only-of-type {\n",
       "        vertical-align: middle;\n",
       "    }\n",
       "\n",
       "    .dataframe tbody tr th {\n",
       "        vertical-align: top;\n",
       "    }\n",
       "\n",
       "    .dataframe thead th {\n",
       "        text-align: right;\n",
       "    }\n",
       "</style>\n",
       "<table border=\"1\" class=\"dataframe\">\n",
       "  <thead>\n",
       "    <tr style=\"text-align: right;\">\n",
       "      <th></th>\n",
       "      <th>R&amp;D Spend</th>\n",
       "      <th>Administration</th>\n",
       "      <th>Marketing Spend</th>\n",
       "      <th>State</th>\n",
       "      <th>Profit</th>\n",
       "    </tr>\n",
       "  </thead>\n",
       "  <tbody>\n",
       "    <tr>\n",
       "      <th>1</th>\n",
       "      <td>162597.70</td>\n",
       "      <td>151377.59</td>\n",
       "      <td>443898.53</td>\n",
       "      <td>California</td>\n",
       "      <td>191792.06</td>\n",
       "    </tr>\n",
       "    <tr>\n",
       "      <th>2</th>\n",
       "      <td>153441.51</td>\n",
       "      <td>101145.55</td>\n",
       "      <td>407934.54</td>\n",
       "      <td>Florida</td>\n",
       "      <td>191050.39</td>\n",
       "    </tr>\n",
       "    <tr>\n",
       "      <th>4</th>\n",
       "      <td>142107.34</td>\n",
       "      <td>91391.77</td>\n",
       "      <td>366168.42</td>\n",
       "      <td>Florida</td>\n",
       "      <td>166187.94</td>\n",
       "    </tr>\n",
       "    <tr>\n",
       "      <th>6</th>\n",
       "      <td>134615.46</td>\n",
       "      <td>147198.87</td>\n",
       "      <td>127716.82</td>\n",
       "      <td>California</td>\n",
       "      <td>156122.51</td>\n",
       "    </tr>\n",
       "    <tr>\n",
       "      <th>7</th>\n",
       "      <td>130298.13</td>\n",
       "      <td>145530.06</td>\n",
       "      <td>323876.68</td>\n",
       "      <td>Florida</td>\n",
       "      <td>155752.60</td>\n",
       "    </tr>\n",
       "  </tbody>\n",
       "</table>\n",
       "</div>"
      ],
      "text/plain": [
       "   R&D Spend  Administration  Marketing Spend       State     Profit\n",
       "1  162597.70       151377.59        443898.53  California  191792.06\n",
       "2  153441.51       101145.55        407934.54     Florida  191050.39\n",
       "4  142107.34        91391.77        366168.42     Florida  166187.94\n",
       "6  134615.46       147198.87        127716.82  California  156122.51\n",
       "7  130298.13       145530.06        323876.68     Florida  155752.60"
      ]
     },
     "execution_count": 172,
     "metadata": {},
     "output_type": "execute_result"
    }
   ],
   "source": [
    "df_sel.head() # column title and first rows of the dataset"
   ]
  },
  {
   "cell_type": "code",
   "execution_count": 173,
   "id": "32984bcc",
   "metadata": {
    "colab": {
     "base_uri": "https://localhost:8080/"
    },
    "id": "32984bcc",
    "outputId": "5d110736-c5ca-4ee5-dd89-2fd922a4c08c"
   },
   "outputs": [
    {
     "data": {
      "text/plain": [
       "R&D Spend          float64\n",
       "Administration     float64\n",
       "Marketing Spend    float64\n",
       "State               object\n",
       "Profit             float64\n",
       "dtype: object"
      ]
     },
     "execution_count": 173,
     "metadata": {},
     "output_type": "execute_result"
    }
   ],
   "source": [
    "df_sel.dtypes # type of each column"
   ]
  },
  {
   "cell_type": "markdown",
   "id": "0784375e",
   "metadata": {
    "id": "0784375e"
   },
   "source": [
    "***Encode categorical data***\n",
    "\n",
    "One-hot encoding of categorical feature _State_\n",
    "\n",
    "One-Hot Encoding is a technique used in machine learning to handle categorical variables by transforming them into a format that can be easily utilized by algorithms.\n",
    "\n",
    "Imagine having a categorical variable, such as colors: red, green, and blue. With One-Hot Encoding, each color becomes a new binary column. If an observation has a specific color, the column corresponding to that color will be set to 1, while the other columns will be set to 0.\n",
    "\n",
    "For example:\n",
    "- If you have categories \"red\", \"green\", \"blue\", and you want to encode them using One-Hot Encoding:\n",
    "  - \"red\" becomes [1, 0, 0]\n",
    "  - \"green\" becomes [0, 1, 0]\n",
    "  - \"blue\" becomes [0, 0, 1]\n",
    "\n",
    "This helps machine learning algorithms to understand and work with these categorical variables more effectively, as it doesn't impose an order or hierarchy among the categories but rather represents them in a form that the algorithm can interpret more efficiently."
   ]
  },
  {
   "cell_type": "code",
   "execution_count": 174,
   "id": "0a6b154f",
   "metadata": {
    "id": "0a6b154f"
   },
   "outputs": [],
   "source": [
    "df_one = pd.get_dummies(df_sel[\"State\"], dtype=int)"
   ]
  },
  {
   "cell_type": "code",
   "execution_count": 175,
   "id": "3f282229",
   "metadata": {
    "colab": {
     "base_uri": "https://localhost:8080/",
     "height": 206
    },
    "id": "3f282229",
    "outputId": "af6ae211-c29f-4e55-e9f3-02fded7df40c",
    "scrolled": true
   },
   "outputs": [
    {
     "data": {
      "text/html": [
       "<div>\n",
       "<style scoped>\n",
       "    .dataframe tbody tr th:only-of-type {\n",
       "        vertical-align: middle;\n",
       "    }\n",
       "\n",
       "    .dataframe tbody tr th {\n",
       "        vertical-align: top;\n",
       "    }\n",
       "\n",
       "    .dataframe thead th {\n",
       "        text-align: right;\n",
       "    }\n",
       "</style>\n",
       "<table border=\"1\" class=\"dataframe\">\n",
       "  <thead>\n",
       "    <tr style=\"text-align: right;\">\n",
       "      <th></th>\n",
       "      <th>California</th>\n",
       "      <th>Florida</th>\n",
       "    </tr>\n",
       "  </thead>\n",
       "  <tbody>\n",
       "    <tr>\n",
       "      <th>1</th>\n",
       "      <td>1</td>\n",
       "      <td>0</td>\n",
       "    </tr>\n",
       "    <tr>\n",
       "      <th>2</th>\n",
       "      <td>0</td>\n",
       "      <td>1</td>\n",
       "    </tr>\n",
       "    <tr>\n",
       "      <th>4</th>\n",
       "      <td>0</td>\n",
       "      <td>1</td>\n",
       "    </tr>\n",
       "    <tr>\n",
       "      <th>6</th>\n",
       "      <td>1</td>\n",
       "      <td>0</td>\n",
       "    </tr>\n",
       "    <tr>\n",
       "      <th>7</th>\n",
       "      <td>0</td>\n",
       "      <td>1</td>\n",
       "    </tr>\n",
       "  </tbody>\n",
       "</table>\n",
       "</div>"
      ],
      "text/plain": [
       "   California  Florida\n",
       "1           1        0\n",
       "2           0        1\n",
       "4           0        1\n",
       "6           1        0\n",
       "7           0        1"
      ]
     },
     "execution_count": 175,
     "metadata": {},
     "output_type": "execute_result"
    }
   ],
   "source": [
    "df_one.head()"
   ]
  },
  {
   "cell_type": "code",
   "execution_count": 176,
   "id": "74e5d9d7",
   "metadata": {
    "id": "74e5d9d7"
   },
   "outputs": [
    {
     "data": {
      "text/html": [
       "<div>\n",
       "<style scoped>\n",
       "    .dataframe tbody tr th:only-of-type {\n",
       "        vertical-align: middle;\n",
       "    }\n",
       "\n",
       "    .dataframe tbody tr th {\n",
       "        vertical-align: top;\n",
       "    }\n",
       "\n",
       "    .dataframe thead th {\n",
       "        text-align: right;\n",
       "    }\n",
       "</style>\n",
       "<table border=\"1\" class=\"dataframe\">\n",
       "  <thead>\n",
       "    <tr style=\"text-align: right;\">\n",
       "      <th></th>\n",
       "      <th>State</th>\n",
       "      <th>R&amp;D Spend</th>\n",
       "      <th>Administration</th>\n",
       "      <th>Marketing Spend</th>\n",
       "      <th>Profit</th>\n",
       "    </tr>\n",
       "  </thead>\n",
       "  <tbody>\n",
       "    <tr>\n",
       "      <th>1</th>\n",
       "      <td>1</td>\n",
       "      <td>162597.70</td>\n",
       "      <td>151377.59</td>\n",
       "      <td>443898.53</td>\n",
       "      <td>191792.06</td>\n",
       "    </tr>\n",
       "    <tr>\n",
       "      <th>2</th>\n",
       "      <td>0</td>\n",
       "      <td>153441.51</td>\n",
       "      <td>101145.55</td>\n",
       "      <td>407934.54</td>\n",
       "      <td>191050.39</td>\n",
       "    </tr>\n",
       "    <tr>\n",
       "      <th>4</th>\n",
       "      <td>0</td>\n",
       "      <td>142107.34</td>\n",
       "      <td>91391.77</td>\n",
       "      <td>366168.42</td>\n",
       "      <td>166187.94</td>\n",
       "    </tr>\n",
       "    <tr>\n",
       "      <th>6</th>\n",
       "      <td>1</td>\n",
       "      <td>134615.46</td>\n",
       "      <td>147198.87</td>\n",
       "      <td>127716.82</td>\n",
       "      <td>156122.51</td>\n",
       "    </tr>\n",
       "    <tr>\n",
       "      <th>7</th>\n",
       "      <td>0</td>\n",
       "      <td>130298.13</td>\n",
       "      <td>145530.06</td>\n",
       "      <td>323876.68</td>\n",
       "      <td>155752.60</td>\n",
       "    </tr>\n",
       "  </tbody>\n",
       "</table>\n",
       "</div>"
      ],
      "text/plain": [
       "   State  R&D Spend  Administration  Marketing Spend     Profit\n",
       "1      1  162597.70       151377.59        443898.53  191792.06\n",
       "2      0  153441.51       101145.55        407934.54  191050.39\n",
       "4      0  142107.34        91391.77        366168.42  166187.94\n",
       "6      1  134615.46       147198.87        127716.82  156122.51\n",
       "7      0  130298.13       145530.06        323876.68  155752.60"
      ]
     },
     "execution_count": 176,
     "metadata": {},
     "output_type": "execute_result"
    }
   ],
   "source": [
    "# construct the final dataset that you will use for learning and prediction\n",
    "df_fin = pd.concat((df_one, df_sel), axis=1)\n",
    "df_fin = df_fin.drop([\"Florida\"], axis=1)\n",
    "df_fin = df_fin.drop([\"State\"], axis=1)\n",
    "# California is class 1, Florida is class 0\n",
    "df_fin = df_fin.rename(columns={\"California\": \"State\"})\n",
    "df_fin.head()"
   ]
  },
  {
   "cell_type": "code",
   "execution_count": 177,
   "id": "QlHeJ5ePRi6U",
   "metadata": {
    "colab": {
     "base_uri": "https://localhost:8080/",
     "height": 206
    },
    "id": "QlHeJ5ePRi6U",
    "outputId": "9f8088d0-741a-4a67-c74e-90537fef9752"
   },
   "outputs": [
    {
     "data": {
      "text/html": [
       "<div>\n",
       "<style scoped>\n",
       "    .dataframe tbody tr th:only-of-type {\n",
       "        vertical-align: middle;\n",
       "    }\n",
       "\n",
       "    .dataframe tbody tr th {\n",
       "        vertical-align: top;\n",
       "    }\n",
       "\n",
       "    .dataframe thead th {\n",
       "        text-align: right;\n",
       "    }\n",
       "</style>\n",
       "<table border=\"1\" class=\"dataframe\">\n",
       "  <thead>\n",
       "    <tr style=\"text-align: right;\">\n",
       "      <th></th>\n",
       "      <th>State</th>\n",
       "      <th>R&amp;D Spend</th>\n",
       "      <th>Administration</th>\n",
       "      <th>Marketing Spend</th>\n",
       "      <th>Profit</th>\n",
       "    </tr>\n",
       "  </thead>\n",
       "  <tbody>\n",
       "    <tr>\n",
       "      <th>1</th>\n",
       "      <td>1</td>\n",
       "      <td>162597.70</td>\n",
       "      <td>151377.59</td>\n",
       "      <td>443898.53</td>\n",
       "      <td>191792.06</td>\n",
       "    </tr>\n",
       "    <tr>\n",
       "      <th>2</th>\n",
       "      <td>0</td>\n",
       "      <td>153441.51</td>\n",
       "      <td>101145.55</td>\n",
       "      <td>407934.54</td>\n",
       "      <td>191050.39</td>\n",
       "    </tr>\n",
       "    <tr>\n",
       "      <th>4</th>\n",
       "      <td>0</td>\n",
       "      <td>142107.34</td>\n",
       "      <td>91391.77</td>\n",
       "      <td>366168.42</td>\n",
       "      <td>166187.94</td>\n",
       "    </tr>\n",
       "    <tr>\n",
       "      <th>6</th>\n",
       "      <td>1</td>\n",
       "      <td>134615.46</td>\n",
       "      <td>147198.87</td>\n",
       "      <td>127716.82</td>\n",
       "      <td>156122.51</td>\n",
       "    </tr>\n",
       "    <tr>\n",
       "      <th>7</th>\n",
       "      <td>0</td>\n",
       "      <td>130298.13</td>\n",
       "      <td>145530.06</td>\n",
       "      <td>323876.68</td>\n",
       "      <td>155752.60</td>\n",
       "    </tr>\n",
       "  </tbody>\n",
       "</table>\n",
       "</div>"
      ],
      "text/plain": [
       "   State  R&D Spend  Administration  Marketing Spend     Profit\n",
       "1      1  162597.70       151377.59        443898.53  191792.06\n",
       "2      0  153441.51       101145.55        407934.54  191050.39\n",
       "4      0  142107.34        91391.77        366168.42  166187.94\n",
       "6      1  134615.46       147198.87        127716.82  156122.51\n",
       "7      0  130298.13       145530.06        323876.68  155752.60"
      ]
     },
     "execution_count": 177,
     "metadata": {},
     "output_type": "execute_result"
    }
   ],
   "source": [
    "# Constructing the final dataset for learning and prediction\n",
    "\n",
    "# Concatenating two DataFrames 'df_one' and 'df_sel' along columns (axis=1)\n",
    "df_fin = pd.concat((df_one, df_sel), axis=1)\n",
    "\n",
    "# Dropping the column \"Florida\" from the dataset as it was not selected for the final model\n",
    "df_fin = df_fin.drop([\"Florida\"], axis=1)\n",
    "\n",
    "# Dropping the column \"State\" (assumed to be the original 'State' column) as it is not required in its original form\n",
    "df_fin = df_fin.drop([\"State\"], axis=1)\n",
    "\n",
    "# Renaming the column \"California\" to \"State\" as part of preparing the dataset for classification (1 for California, 0 for Florida)\n",
    "df_fin = df_fin.rename(columns={\"California\": \"State\"})\n",
    "\n",
    "# Displaying the initial rows of the modified final dataset\n",
    "df_fin.head()"
   ]
  },
  {
   "cell_type": "markdown",
   "id": "ffced933",
   "metadata": {
    "id": "ffced933"
   },
   "source": [
    "***Normalize***\n",
    "\n",
    "Divide by the absolute value of the maximum so that features are in \\[0, 1\\]"
   ]
  },
  {
   "cell_type": "code",
   "execution_count": 178,
   "id": "5gURVDdmR52t",
   "metadata": {
    "id": "5gURVDdmR52t"
   },
   "outputs": [],
   "source": [
    "def absolute_maximum_scale(series):\n",
    "    \"\"\"\n",
    "    Scale each column in the DataFrame 'df_fin' by dividing the values by the absolute maximum value of that column.\n",
    "\n",
    "    Args:\n",
    "    series: A pandas Series or DataFrame column to be scaled.\n",
    "\n",
    "    Returns:\n",
    "    A scaled version of the input series with values ranging from -1 to 1 based on the maximum absolute value in the column.\n",
    "    \"\"\"\n",
    "    return series / series.abs().max()"
   ]
  },
  {
   "cell_type": "code",
   "execution_count": 179,
   "id": "vGQyMhhuR_5L",
   "metadata": {
    "id": "vGQyMhhuR_5L"
   },
   "outputs": [],
   "source": [
    "# Apply the 'absolute_maximum_scale' function to each column in the DataFrame 'df_fin'\n",
    "for col in df_fin.columns:\n",
    "    df_fin[col] = absolute_maximum_scale(df_fin[col])"
   ]
  },
  {
   "cell_type": "code",
   "execution_count": 180,
   "id": "421fc34c",
   "metadata": {
    "colab": {
     "base_uri": "https://localhost:8080/",
     "height": 206
    },
    "id": "421fc34c",
    "outputId": "4bdb8956-5059-46cd-d5ca-1ff06e2f3f18"
   },
   "outputs": [
    {
     "data": {
      "text/html": [
       "<div>\n",
       "<style scoped>\n",
       "    .dataframe tbody tr th:only-of-type {\n",
       "        vertical-align: middle;\n",
       "    }\n",
       "\n",
       "    .dataframe tbody tr th {\n",
       "        vertical-align: top;\n",
       "    }\n",
       "\n",
       "    .dataframe thead th {\n",
       "        text-align: right;\n",
       "    }\n",
       "</style>\n",
       "<table border=\"1\" class=\"dataframe\">\n",
       "  <thead>\n",
       "    <tr style=\"text-align: right;\">\n",
       "      <th></th>\n",
       "      <th>State</th>\n",
       "      <th>R&amp;D Spend</th>\n",
       "      <th>Administration</th>\n",
       "      <th>Marketing Spend</th>\n",
       "      <th>Profit</th>\n",
       "    </tr>\n",
       "  </thead>\n",
       "  <tbody>\n",
       "    <tr>\n",
       "      <th>1</th>\n",
       "      <td>1.0</td>\n",
       "      <td>1.000000</td>\n",
       "      <td>0.828805</td>\n",
       "      <td>1.000000</td>\n",
       "      <td>1.000000</td>\n",
       "    </tr>\n",
       "    <tr>\n",
       "      <th>2</th>\n",
       "      <td>0.0</td>\n",
       "      <td>0.943688</td>\n",
       "      <td>0.553781</td>\n",
       "      <td>0.918982</td>\n",
       "      <td>0.996133</td>\n",
       "    </tr>\n",
       "    <tr>\n",
       "      <th>4</th>\n",
       "      <td>0.0</td>\n",
       "      <td>0.873981</td>\n",
       "      <td>0.500378</td>\n",
       "      <td>0.824892</td>\n",
       "      <td>0.866501</td>\n",
       "    </tr>\n",
       "    <tr>\n",
       "      <th>6</th>\n",
       "      <td>1.0</td>\n",
       "      <td>0.827905</td>\n",
       "      <td>0.805926</td>\n",
       "      <td>0.287716</td>\n",
       "      <td>0.814020</td>\n",
       "    </tr>\n",
       "    <tr>\n",
       "      <th>7</th>\n",
       "      <td>0.0</td>\n",
       "      <td>0.801353</td>\n",
       "      <td>0.796789</td>\n",
       "      <td>0.729619</td>\n",
       "      <td>0.812091</td>\n",
       "    </tr>\n",
       "  </tbody>\n",
       "</table>\n",
       "</div>"
      ],
      "text/plain": [
       "   State  R&D Spend  Administration  Marketing Spend    Profit\n",
       "1    1.0   1.000000        0.828805         1.000000  1.000000\n",
       "2    0.0   0.943688        0.553781         0.918982  0.996133\n",
       "4    0.0   0.873981        0.500378         0.824892  0.866501\n",
       "6    1.0   0.827905        0.805926         0.287716  0.814020\n",
       "7    0.0   0.801353        0.796789         0.729619  0.812091"
      ]
     },
     "execution_count": 180,
     "metadata": {},
     "output_type": "execute_result"
    }
   ],
   "source": [
    "df_fin.head()"
   ]
  },
  {
   "cell_type": "code",
   "execution_count": 181,
   "id": "XouS4L7nSTzL",
   "metadata": {
    "colab": {
     "base_uri": "https://localhost:8080/"
    },
    "id": "XouS4L7nSTzL",
    "outputId": "3a51a8a4-e09e-437d-c684-165c8b0bb3cf"
   },
   "outputs": [
    {
     "data": {
      "text/plain": [
       "(33, 5)"
      ]
     },
     "execution_count": 181,
     "metadata": {},
     "output_type": "execute_result"
    }
   ],
   "source": [
    "df_fin.shape"
   ]
  },
  {
   "cell_type": "markdown",
   "id": "563bfeca",
   "metadata": {
    "id": "563bfeca"
   },
   "source": [
    "***Classification***"
   ]
  },
  {
   "cell_type": "markdown",
   "id": "5e3406c4",
   "metadata": {
    "id": "5e3406c4"
   },
   "source": [
    "Prepare the dataset:"
   ]
  },
  {
   "cell_type": "code",
   "execution_count": 182,
   "id": "bc04f61d",
   "metadata": {
    "id": "bc04f61d"
   },
   "outputs": [],
   "source": [
    "y = df_fin[\"State\"] # ground truth labels\n",
    "X = df_fin.drop([\"State\"], axis=1) # datapoints features\n",
    "# extract actual values from series\n",
    "y = y.values\n",
    "X = X.values"
   ]
  },
  {
   "cell_type": "markdown",
   "id": "7b65051f",
   "metadata": {
    "id": "7b65051f"
   },
   "source": [
    "Train test split\n",
    "\n",
    "$75\\%$ of the data are in the training set, the remaining $25\\%$ constitutes the test set."
   ]
  },
  {
   "cell_type": "code",
   "execution_count": 183,
   "id": "f11e105c",
   "metadata": {
    "id": "f11e105c"
   },
   "outputs": [],
   "source": [
    "from sklearn.model_selection import train_test_split\n",
    "\n",
    "# Splitting the dataset into training and testing sets\n",
    "# X represents the features (independent variables), and y represents the target (dependent variable).\n",
    "\n",
    "# Using train_test_split function to create the training and testing sets\n",
    "# X_train and y_train: Training features and labels\n",
    "# X_test and y_test: Testing features and labels\n",
    "\n",
    "# The 'test_size=0.25' parameter sets the proportion of the dataset to include in the test split. Here, 25% of the data is allocated to the test set.\n",
    "# The 'random_state=0' parameter sets the random seed for reproducibility of the split.\n",
    "\n",
    "X_train, X_test, y_train, y_test = train_test_split(X, y, test_size=0.25, random_state=101)  \n"
   ]
  },
  {
   "cell_type": "markdown",
   "id": "5ee09c7e",
   "metadata": {
    "id": "5ee09c7e"
   },
   "source": [
    "Train the Logistic Regression Model"
   ]
  },
  {
   "cell_type": "code",
   "execution_count": 184,
   "id": "1d4b2d20",
   "metadata": {
    "id": "1d4b2d20"
   },
   "outputs": [],
   "source": [
    "from sklearn.linear_model import LogisticRegression"
   ]
  },
  {
   "cell_type": "code",
   "execution_count": 185,
   "id": "S71_9HAkSg7w",
   "metadata": {
    "id": "S71_9HAkSg7w"
   },
   "outputs": [
    {
     "name": "stdout",
     "output_type": "stream",
     "text": [
      "Accuracy = 0.2222\n"
     ]
    }
   ],
   "source": [
    "# Creating a Logistic Regression model with specific parameters\n",
    "# - 'random_state=0' ensures reproducibility by setting the random seed.\n",
    "# - 'solver='lbfgs'' selects the optimization algorithm for the logistic regression.\n",
    "\n",
    "LR = LogisticRegression(random_state=0, solver='lbfgs').fit(X_train, y_train)\n",
    "\n",
    "# Predicting the target variable (y) using the Logistic Regression model on the test set (X_test).\n",
    "predictions = LR.predict(X_test)\n",
    "\n",
    "# Calculating and rounding the accuracy score of the Logistic Regression model on the test set.\n",
    "# The score is calculated by comparing the predicted values to the actual values (y_test).\n",
    "accuracy = round(LR.score(X_test, y_test), 4)\n",
    "\n",
    "print(f'Accuracy = {accuracy}')"
   ]
  },
  {
   "cell_type": "markdown",
   "id": "6f9b7d00",
   "metadata": {
    "id": "6f9b7d00"
   },
   "source": [
    "***Plot results***"
   ]
  },
  {
   "cell_type": "code",
   "execution_count": 186,
   "id": "fae229d6",
   "metadata": {
    "id": "fae229d6"
   },
   "outputs": [
    {
     "data": {
      "image/png": "[encoded data removed]",
      "text/plain": [
       "<Figure size 1500x1000 with 6 Axes>"
      ]
     },
     "metadata": {},
     "output_type": "display_data"
    }
   ],
   "source": [
    "# Plot all features two by two to see if we can find some correlations visually; also divide the points with different colors according to the predicted label \n",
    "\n",
    "import matplotlib.patches as mpatches\n",
    "\n",
    "classes = np.unique(predictions)\n",
    "class_colors = {cls: color for cls, color in zip(classes, plt.cm.viridis(np.linspace(0, 1, len(classes))))}\n",
    "\n",
    "fig, axs = plt.subplots(3,2,figsize=(15,10))\n",
    "axs[0, 0].scatter(X_test[:,0], X_test[:,1], c=[class_colors[p] for p in predictions])\n",
    "axs[0, 0].set_title('R&D SPEND / ADMINISTRATION')\n",
    "axs[0, 1].scatter(X_test[:,0], X_test[:,2], c=[class_colors[p] for p in predictions])\n",
    "axs[0, 1].set_title('R&D SPEND / MARKETING SPEND')\n",
    "axs[1, 0].scatter(X_test[:,0], X_test[:,3], c=[class_colors[p] for p in predictions])\n",
    "axs[1, 0].set_title('R&D SPEND / PROFIT')\n",
    "axs[1, 1].scatter(X_test[:,1], X_test[:,2], c=[class_colors[p] for p in predictions])\n",
    "axs[1, 1].set_title('ADMINISTRATION / MARKETING SPEND')\n",
    "axs[2, 0].scatter(X_test[:,1], X_test[:,3], c=[class_colors[p] for p in predictions])\n",
    "axs[2, 0].set_title('ADMINISTRATION / PROFIT')\n",
    "axs[2, 1].scatter(X_test[:,2], X_test[:,3], c=[class_colors[p] for p in predictions])\n",
    "axs[2, 1].set_title('MARKETING SPEND / PROFIT')\n",
    "\n",
    "class_names = {\n",
    "    0: 'Florida',\n",
    "    1: 'California'\n",
    "}\n",
    "\n",
    "legend_handles = [mpatches.Patch(color=class_colors[cls], label=class_names[cls]) for cls in classes]\n",
    "fig.legend(handles=legend_handles, loc='upper right', title='Classes')\n",
    "\n",
    "plt.tight_layout()\n",
    "plt.show()"
   ]
  },
  {
   "cell_type": "markdown",
   "id": "0a2a78f4",
   "metadata": {
    "id": "0a2a78f4"
   },
   "source": [
    "***Add regularization***\n",
    "\n",
    "Implement from scratch the regularized logistic regression model (with all the regularization techniques seen during the course)."
   ]
  },
  {
   "cell_type": "code",
   "execution_count": 187,
   "id": "2ceebb8e",
   "metadata": {},
   "outputs": [],
   "source": [
    "import numpy.linalg as LA\n",
    "\n",
    "def OLSGradient(X, y, w, points):\n",
    "    return (-2/points)*((y-X@w)@X)\n",
    "\n",
    "# Ridge regression (L2 regularization)\n",
    "\n",
    "def RidgeSquareLoss(X, y, w, lam):\n",
    "    \"\"\"\n",
    "    Parameters\n",
    "    ----------\n",
    "    X : array of float dim n x d\n",
    "        Matrix containing the dataset\n",
    "    y : array of float of dim n\n",
    "        Vector containing the ground truth value of each data point\n",
    "    w : array of float of dim d\n",
    "        Weights of the fitted line\n",
    "    lam : float\n",
    "        Weight of the L2 penalty term\n",
    "    \"\"\"\n",
    "    return LA.norm(y-X@w,2) + lam*LA.norm(w,2)\n",
    "\n",
    "def RidgeGradient(w, lam):\n",
    "    return 2*lam*w\n",
    "\n",
    "def GDRidge(X, y, iter, gamma, points, d, lam):\n",
    "    \"\"\"\n",
    "    Parameters\n",
    "    ----------\n",
    "    X : array of float dim n x d\n",
    "        Matrix containing the dataset\n",
    "    y : array of float of dim n\n",
    "        Vector containing the ground truth value of each data point\n",
    "    iter : int\n",
    "        Number of GD iterations\n",
    "    gamma : float\n",
    "        Learning rate\n",
    "    points : int\n",
    "        Number of points in our dataset\n",
    "    d : int\n",
    "        Dimensionality of each data point in the dataset\n",
    "    lam : float\n",
    "        Weight of the L2 penalty term\n",
    "    \"\"\"\n",
    "    W = np.zeros((d,iter))\n",
    "    L = np.zeros(iter)\n",
    "    w = np.zeros(d)\n",
    "    for i in range(iter):\n",
    "        W[:,i] = w\n",
    "        w = w - gamma * (OLSGradient(X, y, w, points) + RidgeGradient(w, lam))\n",
    "        L[i] = RidgeSquareLoss(X,y,w,lam)\n",
    "    return W, L"
   ]
  },
  {
   "cell_type": "code",
   "execution_count": 188,
   "id": "e8953fa8",
   "metadata": {},
   "outputs": [],
   "source": [
    "# LASSO regression (L1 regularization)\n",
    "\n",
    "def LassoSquareLoss(X, y, w, lam):\n",
    "    \"\"\"\n",
    "    Parameters\n",
    "    ----------\n",
    "    X : array of float dim n x d\n",
    "        Matrix containing the dataset\n",
    "    y : array of float of dim n\n",
    "        Vector containing the ground truth value of each data point\n",
    "    w : array of float of dim d\n",
    "        Weights of the fitted line\n",
    "    lam : float\n",
    "        Weight of the L1 penalty term\n",
    "    \"\"\"\n",
    "    return LA.norm(y-X@w,2) + lam*LA.norm(w,1)\n",
    "\n",
    "def L1_subgradient(z):\n",
    "    g = np.ones(z.shape)\n",
    "    g[z < 0.] = -1.0\n",
    "    return g\n",
    "\n",
    "def LassoGradient(w, lam):\n",
    "    return lam * L1_subgradient(w)\n",
    "\n",
    "def GDLasso(X, y, iter, gamma, points, d, lam):\n",
    "    \"\"\"\n",
    "    Parameters\n",
    "    ----------\n",
    "    X : array of float dim n x d\n",
    "        Matrix containing the dataset\n",
    "    y : array of float of dim n\n",
    "        Vector containing the ground truth value of each data point\n",
    "    iter : int\n",
    "        Number of GD iterations\n",
    "    gamma : float\n",
    "        Learning rate\n",
    "    points : int\n",
    "        Number of points in our dataset\n",
    "    d : int\n",
    "        Dimensionality of each data point in the dataset\n",
    "    lam : float\n",
    "        Weight of the L1 penalty term\n",
    "    \"\"\"\n",
    "    W = np.zeros((d,iter))\n",
    "    L = np.zeros(iter)\n",
    "    w = np.random.normal(0, 0.1, d)\n",
    "    for i in range(iter):\n",
    "        W[:,i] = w\n",
    "        w = w - gamma * (OLSGradient(X, y, w, points) + LassoGradient(w, lam))\n",
    "        L[i] = LassoSquareLoss(X, y, w, lam)\n",
    "    return W, L"
   ]
  },
  {
   "cell_type": "code",
   "execution_count": 189,
   "id": "22b50c98",
   "metadata": {},
   "outputs": [],
   "source": [
    "#Elastic Net regularization\n",
    "\n",
    "def GDElasticNet(X, y, iter, gamma, points, d, lam):\n",
    "    \"\"\"\n",
    "    Parameters\n",
    "    ----------\n",
    "    X : array of float dim n x d\n",
    "        Matrix containing the dataset\n",
    "    y : array of float of dim n\n",
    "        Vector containing the ground truth value of each data point\n",
    "    iter : int\n",
    "        Number of GD iterations\n",
    "    gamma : float\n",
    "        Learning rate\n",
    "    points : int\n",
    "        Number of points in our dataset\n",
    "    d : int\n",
    "        Dimensionality of each data point in the dataset\n",
    "    lam : float\n",
    "        Weight of the penalty term\n",
    "    \"\"\"\n",
    "    W = np.zeros((d,iter))\n",
    "    L = np.zeros(iter)\n",
    "    w = np.random.normal(0, 0.1, d)\n",
    "    for i in range(iter):\n",
    "        W[:,i] = w\n",
    "        w = w - gamma * (OLSGradient(X, y, w, points) + LassoGradient(w, lam) + RidgeGradient(w, lam))\n",
    "        L[i] = LassoSquareLoss(X, y, w, lam) + RidgeSquareLoss(X, y, w, lam)\n",
    "    return W, L"
   ]
  },
  {
   "cell_type": "code",
   "execution_count": 190,
   "id": "19120946",
   "metadata": {},
   "outputs": [
    {
     "name": "stdout",
     "output_type": "stream",
     "text": [
      "Parameters used: gamma = 0.001 , lambda = 0.3\n",
      "Ridge :\t\t Loss = 3.770813253345026 ,\t weights = [0.03911979 0.05840061 0.0378736  0.04709071]\n",
      "Lasso :\t\t Loss = 3.770813253345026 ,\t weights = [0.03911979 0.05840061 0.0378736  0.04709071]\n",
      "Elastic Net :\t Loss = 3.770813253345026 ,\t weights = [0.03911979 0.05840061 0.0378736  0.04709071]\n"
     ]
    }
   ],
   "source": [
    "# Use these regularized models on my data and see what happens\n",
    "\n",
    "iter, gamma, points, d, lam = 100, 0.001, X.shape[0], X.shape[1], 0.3\n",
    "\n",
    "W2, L2 = GDRidge(X, y, iter, gamma, points, d, lam)\n",
    "W1, L1 = GDRidge(X, y, iter, gamma, points, d, lam)\n",
    "Wel, Lel = GDRidge(X, y, iter, gamma, points, d, lam)\n",
    "\n",
    "print(f'Parameters used: gamma = {gamma} , lambda = {lam}')\n",
    "print(f'Ridge :\\t\\t Loss = {L2[-1]} ,\\t weights = {W2[:,-1]}')\n",
    "print(f'Lasso :\\t\\t Loss = {L2[-1]} ,\\t weights = {W2[:,-1]}')\n",
    "print(f'Elastic Net :\\t Loss = {L2[-1]} ,\\t weights = {W2[:,-1]}')"
   ]
  },
  {
   "cell_type": "markdown",
   "id": "7a05776d",
   "metadata": {
    "id": "7a05776d"
   },
   "source": [
    "***Model assessment***\n",
    "\n",
    "Given true and predicted values, compute the most common classification metrics to assess the quality of your predictions."
   ]
  },
  {
   "cell_type": "code",
   "execution_count": 191,
   "id": "b3a864f9",
   "metadata": {
    "id": "b3a864f9"
   },
   "outputs": [
    {
     "name": "stdout",
     "output_type": "stream",
     "text": [
      "              precision    recall  f1-score   support\n",
      "\n",
      "     Florida       0.22      1.00      0.36         2\n",
      "  California       0.00      0.00      0.00         7\n",
      "\n",
      "    accuracy                           0.22         9\n",
      "   macro avg       0.11      0.50      0.18         9\n",
      "weighted avg       0.05      0.22      0.08         9\n",
      "\n"
     ]
    },
    {
     "name": "stderr",
     "output_type": "stream",
     "text": [
      "c:\\Users\\test1\\AppData\\Local\\Programs\\Python\\Python312\\Lib\\site-packages\\sklearn\\metrics\\_classification.py:1531: UndefinedMetricWarning: Precision is ill-defined and being set to 0.0 in labels with no predicted samples. Use `zero_division` parameter to control this behavior.\n",
      "  _warn_prf(average, modifier, f\"{metric.capitalize()} is\", len(result))\n",
      "c:\\Users\\test1\\AppData\\Local\\Programs\\Python\\Python312\\Lib\\site-packages\\sklearn\\metrics\\_classification.py:1531: UndefinedMetricWarning: Precision is ill-defined and being set to 0.0 in labels with no predicted samples. Use `zero_division` parameter to control this behavior.\n",
      "  _warn_prf(average, modifier, f\"{metric.capitalize()} is\", len(result))\n",
      "c:\\Users\\test1\\AppData\\Local\\Programs\\Python\\Python312\\Lib\\site-packages\\sklearn\\metrics\\_classification.py:1531: UndefinedMetricWarning: Precision is ill-defined and being set to 0.0 in labels with no predicted samples. Use `zero_division` parameter to control this behavior.\n",
      "  _warn_prf(average, modifier, f\"{metric.capitalize()} is\", len(result))\n"
     ]
    },
    {
     "data": {
      "image/png": "[encoded data removed]",
      "text/plain": [
       "<Figure size 600x400 with 2 Axes>"
      ]
     },
     "metadata": {},
     "output_type": "display_data"
    }
   ],
   "source": [
    "from sklearn.metrics import classification_report\n",
    "from sklearn.metrics import confusion_matrix\n",
    "import seaborn as sns\n",
    "y_true = y_test\n",
    "y_pred = LR.predict(X_test)\n",
    "\n",
    "target_names = ['Florida', 'California']\n",
    "print(classification_report(y_true, y_pred, target_names=target_names))\n",
    "\n",
    "cm = confusion_matrix(y_test, y_pred)\n",
    "\n",
    "plt.figure(figsize=(6, 4))\n",
    "sns.heatmap(cm, annot=True, fmt=\"d\", cmap=\"Reds\", cbar=True,\n",
    "            xticklabels=['Predicted False (FL)', 'Predicted True (CA)'],\n",
    "            yticklabels=['Actual False (FL)', 'Actual True (CA)'])\n",
    "plt.xlabel(\"Prediction\")\n",
    "plt.ylabel(\"Ground Truth\")\n",
    "plt.title(\"Binary Matrix\")\n",
    "plt.show()"
   ]
  },
  {
   "cell_type": "markdown",
   "id": "q8gI_LEMJsB-",
   "metadata": {
    "id": "q8gI_LEMJsB-"
   },
   "source": [
    "Repeat the previous task for regularized logistic regression and compare the results."
   ]
  },
  {
   "cell_type": "code",
   "execution_count": 192,
   "id": "b023778d",
   "metadata": {},
   "outputs": [],
   "source": [
    "def predict(X_new, w, threshold=0.5):\n",
    "    \"\"\"\n",
    "    Parameters\n",
    "    ----------\n",
    "    X_new : array of shape (m, d)\n",
    "        New data points where m is the number of new points and d is the dimensionality\n",
    "    w : array of shape (d,)\n",
    "        The final weight vector obtained after training\n",
    "    threshold : float\n",
    "        Decision threshold for binary classification. Defaults to 0.5\n",
    "        \n",
    "    Returns\n",
    "    -------\n",
    "    predictions : array of shape (m,)\n",
    "        Predicted class labels (0 or 1) for each data point in X_new.\n",
    "    \"\"\"\n",
    "    raw_predictions = 1/(1+(np.exp(-(X_new @ w))))\n",
    "    predictions = (raw_predictions >= threshold).astype(int)\n",
    "    return predictions"
   ]
  },
  {
   "cell_type": "code",
   "execution_count": 193,
   "id": "AWSiwxDUJrZz",
   "metadata": {
    "id": "AWSiwxDUJrZz"
   },
   "outputs": [
    {
     "name": "stdout",
     "output_type": "stream",
     "text": [
      "Ridge regularization:\n",
      "              precision    recall  f1-score   support\n",
      "\n",
      "     Florida       0.00      0.00      0.00         2\n",
      "  California       0.78      1.00      0.88         7\n",
      "\n",
      "    accuracy                           0.78         9\n",
      "   macro avg       0.39      0.50      0.44         9\n",
      "weighted avg       0.60      0.78      0.68         9\n",
      "\n"
     ]
    },
    {
     "name": "stderr",
     "output_type": "stream",
     "text": [
      "c:\\Users\\test1\\AppData\\Local\\Programs\\Python\\Python312\\Lib\\site-packages\\sklearn\\metrics\\_classification.py:1531: UndefinedMetricWarning: Precision is ill-defined and being set to 0.0 in labels with no predicted samples. Use `zero_division` parameter to control this behavior.\n",
      "  _warn_prf(average, modifier, f\"{metric.capitalize()} is\", len(result))\n",
      "c:\\Users\\test1\\AppData\\Local\\Programs\\Python\\Python312\\Lib\\site-packages\\sklearn\\metrics\\_classification.py:1531: UndefinedMetricWarning: Precision is ill-defined and being set to 0.0 in labels with no predicted samples. Use `zero_division` parameter to control this behavior.\n",
      "  _warn_prf(average, modifier, f\"{metric.capitalize()} is\", len(result))\n",
      "c:\\Users\\test1\\AppData\\Local\\Programs\\Python\\Python312\\Lib\\site-packages\\sklearn\\metrics\\_classification.py:1531: UndefinedMetricWarning: Precision is ill-defined and being set to 0.0 in labels with no predicted samples. Use `zero_division` parameter to control this behavior.\n",
      "  _warn_prf(average, modifier, f\"{metric.capitalize()} is\", len(result))\n"
     ]
    },
    {
     "data": {
      "image/png": "[encoded data removed]",
      "text/plain": [
       "<Figure size 600x400 with 2 Axes>"
      ]
     },
     "metadata": {},
     "output_type": "display_data"
    },
    {
     "name": "stderr",
     "output_type": "stream",
     "text": [
      "c:\\Users\\test1\\AppData\\Local\\Programs\\Python\\Python312\\Lib\\site-packages\\sklearn\\metrics\\_classification.py:1531: UndefinedMetricWarning: Precision is ill-defined and being set to 0.0 in labels with no predicted samples. Use `zero_division` parameter to control this behavior.\n",
      "  _warn_prf(average, modifier, f\"{metric.capitalize()} is\", len(result))\n",
      "c:\\Users\\test1\\AppData\\Local\\Programs\\Python\\Python312\\Lib\\site-packages\\sklearn\\metrics\\_classification.py:1531: UndefinedMetricWarning: Precision is ill-defined and being set to 0.0 in labels with no predicted samples. Use `zero_division` parameter to control this behavior.\n",
      "  _warn_prf(average, modifier, f\"{metric.capitalize()} is\", len(result))\n",
      "c:\\Users\\test1\\AppData\\Local\\Programs\\Python\\Python312\\Lib\\site-packages\\sklearn\\metrics\\_classification.py:1531: UndefinedMetricWarning: Precision is ill-defined and being set to 0.0 in labels with no predicted samples. Use `zero_division` parameter to control this behavior.\n",
      "  _warn_prf(average, modifier, f\"{metric.capitalize()} is\", len(result))\n"
     ]
    },
    {
     "name": "stdout",
     "output_type": "stream",
     "text": [
      "\n",
      "\n",
      "LASSO regularization:\n",
      "              precision    recall  f1-score   support\n",
      "\n",
      "     Florida       0.00      0.00      0.00         2\n",
      "  California       0.78      1.00      0.88         7\n",
      "\n",
      "    accuracy                           0.78         9\n",
      "   macro avg       0.39      0.50      0.44         9\n",
      "weighted avg       0.60      0.78      0.68         9\n",
      "\n"
     ]
    },
    {
     "data": {
      "image/png": "[encoded data removed]",
      "text/plain": [
       "<Figure size 600x400 with 2 Axes>"
      ]
     },
     "metadata": {},
     "output_type": "display_data"
    },
    {
     "name": "stdout",
     "output_type": "stream",
     "text": [
      "\n",
      "\n",
      "Elastic Net regularization:\n",
      "              precision    recall  f1-score   support\n",
      "\n",
      "     Florida       0.00      0.00      0.00         2\n",
      "  California       0.78      1.00      0.88         7\n",
      "\n",
      "    accuracy                           0.78         9\n",
      "   macro avg       0.39      0.50      0.44         9\n",
      "weighted avg       0.60      0.78      0.68         9\n",
      "\n"
     ]
    },
    {
     "name": "stderr",
     "output_type": "stream",
     "text": [
      "c:\\Users\\test1\\AppData\\Local\\Programs\\Python\\Python312\\Lib\\site-packages\\sklearn\\metrics\\_classification.py:1531: UndefinedMetricWarning: Precision is ill-defined and being set to 0.0 in labels with no predicted samples. Use `zero_division` parameter to control this behavior.\n",
      "  _warn_prf(average, modifier, f\"{metric.capitalize()} is\", len(result))\n",
      "c:\\Users\\test1\\AppData\\Local\\Programs\\Python\\Python312\\Lib\\site-packages\\sklearn\\metrics\\_classification.py:1531: UndefinedMetricWarning: Precision is ill-defined and being set to 0.0 in labels with no predicted samples. Use `zero_division` parameter to control this behavior.\n",
      "  _warn_prf(average, modifier, f\"{metric.capitalize()} is\", len(result))\n",
      "c:\\Users\\test1\\AppData\\Local\\Programs\\Python\\Python312\\Lib\\site-packages\\sklearn\\metrics\\_classification.py:1531: UndefinedMetricWarning: Precision is ill-defined and being set to 0.0 in labels with no predicted samples. Use `zero_division` parameter to control this behavior.\n",
      "  _warn_prf(average, modifier, f\"{metric.capitalize()} is\", len(result))\n"
     ]
    },
    {
     "data": {
      "image/png": "[encoded data removed]",
      "text/plain": [
       "<Figure size 600x400 with 2 Axes>"
      ]
     },
     "metadata": {},
     "output_type": "display_data"
    }
   ],
   "source": [
    "w2 = W2[:,-1]\n",
    "w1 = W1[:,-1]\n",
    "wel = Wel[:,-1]\n",
    "\n",
    "treshold = 0.5\n",
    "\n",
    "# Ridge\n",
    "y_pred_r = [predict(x, w2, treshold) for x in X_test]\n",
    "print('Ridge regularization:')\n",
    "print(classification_report(y_true, y_pred_r, target_names=target_names))\n",
    "\n",
    "cm = confusion_matrix(y_test, y_pred_r)\n",
    "plt.figure(figsize=(6, 4))\n",
    "sns.heatmap(cm, annot=True, fmt=\"d\", cmap=\"Reds\", cbar=True,\n",
    "            xticklabels=['Predicted False (FL)', 'Predicted True (CA)'],\n",
    "            yticklabels=['Actual False (FL)', 'Actual True (CA)'])\n",
    "plt.xlabel(\"Prediction\")\n",
    "plt.ylabel(\"Ground Truth\")\n",
    "plt.title(\"Ridge regression\")\n",
    "plt.show()\n",
    "\n",
    "# LASSO\n",
    "y_pred_l = [predict(x, w1, treshold) for x in X_test]\n",
    "print('\\n\\nLASSO regularization:')\n",
    "print(classification_report(y_true, y_pred_l, target_names=target_names))\n",
    "\n",
    "cm = confusion_matrix(y_test, y_pred_l)\n",
    "plt.figure(figsize=(6, 4))\n",
    "sns.heatmap(cm, annot=True, fmt=\"d\", cmap=\"Reds\", cbar=True,\n",
    "            xticklabels=['Predicted False (FL)', 'Predicted True (CA)'],\n",
    "            yticklabels=['Actual False (FL)', 'Actual True (CA)'])\n",
    "plt.xlabel(\"Prediction\")\n",
    "plt.ylabel(\"Ground Truth\")\n",
    "plt.title(\"LASSO regression\")\n",
    "plt.show()\n",
    "\n",
    "# Elastic net\n",
    "y_pred_el = [predict(x, wel, treshold) for x in X_test]\n",
    "print('\\n\\nElastic Net regularization:')\n",
    "print(classification_report(y_true, y_pred_el, target_names=target_names))\n",
    "\n",
    "cm = confusion_matrix(y_test, y_pred_el)\n",
    "plt.figure(figsize=(6, 4))\n",
    "sns.heatmap(cm, annot=True, fmt=\"d\", cmap=\"Reds\", cbar=True,\n",
    "            xticklabels=['Predicted False (FL)', 'Predicted True (CA)'],\n",
    "            yticklabels=['Actual False (FL)', 'Actual True (CA)'])\n",
    "plt.xlabel(\"Prediction\")\n",
    "plt.ylabel(\"Ground Truth\")\n",
    "plt.title(\"Elastic Net regression\")\n",
    "plt.show()\n",
    "# print(f'true labels = {y_true}\\nelastic net = {y_pred_el}\\nridge = {y_pred_r}\\nlasso = {y_pred_l}')"
   ]
  },
  {
   "cell_type": "markdown",
   "id": "d208a7b9",
   "metadata": {
    "id": "d208a7b9"
   },
   "source": [
    "***ROC curve***\n",
    "\n",
    "Implement a function for producing the Receiver Operating Characteristic (ROC) curve.\n",
    "\n",
    "Given true and predicted values, plot the ROC curve using your implemented function."
   ]
  },
  {
   "cell_type": "code",
   "execution_count": null,
   "id": "944188f5",
   "metadata": {
    "id": "944188f5"
   },
   "outputs": [],
   "source": [
    "def ROC(X_test, y_test, w):\n",
    "    \"\"\"\n",
    "    Parameters\n",
    "    ----------\n",
    "    X_test : array of shape (m, d)\n",
    "        Test values to assign to a class\n",
    "    y_test : array of shape (m,)\n",
    "        True labels of predicted data\n",
    "    w : array of shape (d,)\n",
    "        Weight vector obltained after training\n",
    "    \"\"\"\n",
    "\n",
    "    a = np.sort(1/(1+(np.exp(-(X_test @ w)))))   # Tresholds for ROC\n",
    "    TPR = np.ones(len(a))                        # True positive rate\n",
    "    FPR = np.ones(len(a))                        # False positive rate\n",
    "    y_test = y_test.astype(int)                  # True labels\n",
    "\n",
    "    from sklearn.metrics import confusion_matrix\n",
    "\n",
    "    def compute_tpr_fpr(y_true, y_pred):\n",
    "        tn, fp, fn, tp = confusion_matrix(y_true, y_pred).ravel()\n",
    "        return tp/(tp + fn), fp/(fp + tn)\n",
    "    \n",
    "    for idx, elem in enumerate(a):\n",
    "        y_pred = np.array([predict(x, w, elem) for x in X_test]).astype(int)\n",
    "\n",
    "        TP = np.sum((y_pred == 1) & (y_test == 1))  # True positives\n",
    "        FP = np.sum((y_pred == 1) & (y_test == 0))  # False positives\n",
    "        FN = np.sum((y_pred == 0) & (y_test == 1))  # False negatives\n",
    "        TN = np.sum((y_pred == 0) & (y_test == 0))  # True negatives\n",
    "\n",
    "        TPR[idx] = TP / (TP + FN) if (TP + FN) > 0 else 0  # True Positive Rate\n",
    "        FPR[idx] = FP / (FP + TN) if (FP + TN) > 0 else 0  # False Positive Rate\n",
    "\n",
    "        # TPR[idx] = sum(y_pred[y_test == 1]) / sum(y_test) if sum(y_test) > 0 else 0\n",
    "        # FPR[idx] = sum(y_pred[(np.negative(y_test)+ np.ones(len(y_test))) == 1]) / sum(np.negative(y_test)+ np.ones(len(y_test))) if sum(np.negative(y_test)+ np.ones(len(y_test))) > 0 else 0\n",
    "        \n",
    "    print(f'FPR has {len(FPR)} elements: {FPR}\\n TPR has {len(TPR)} elements: {TPR}')\n",
    "    # Plot the ROC curve\n",
    "    fig, ax = plt.subplots(figsize=(8, 6))\n",
    "    ax.plot(FPR,TPR, label=\"ROC Curve\", color=\"blue\")\n",
    "    ax.plot([0, 1], [0, 1], 'r--', label=\"Random Classifier\")\n",
    "    ax.scatter(FPR, TPR, color = 'blue', label = \"Observations\")\n",
    "    ax.set_xlabel(\"False Positive Rate\")\n",
    "    ax.set_ylabel(\"True Positive Rate\")\n",
    "    ax.set_title(\"ROC Curve\")\n",
    "    ax.legend(loc=\"lower right\")\n",
    "    ax.grid(True)\n",
    "    fig.show()"
   ]
  },
  {
   "cell_type": "code",
   "execution_count": 195,
   "id": "a8cd29dc",
   "metadata": {},
   "outputs": [
    {
     "name": "stdout",
     "output_type": "stream",
     "text": [
      "FPR has 9 elements: [1.  1.  1.  1.  0.5 0.5 0.5 0.5 0. ]\n",
      " TPR has 9 elements: [1.         0.85714286 0.71428571 0.57142857 0.57142857 0.42857143\n",
      " 0.28571429 0.14285714 0.14285714]\n"
     ]
    },
    {
     "name": "stderr",
     "output_type": "stream",
     "text": [
      "C:\\Users\\test1\\AppData\\Local\\Temp\\ipykernel_4592\\3503338589.py:49: UserWarning: FigureCanvasAgg is non-interactive, and thus cannot be shown\n",
      "  fig.show()\n"
     ]
    },
    {
     "data": {
      "image/png": "[encoded data removed]",
      "text/plain": [
       "<Figure size 800x600 with 1 Axes>"
      ]
     },
     "metadata": {},
     "output_type": "display_data"
    }
   ],
   "source": [
    "# ROC curve of model using elastic net\n",
    "ROC(X_test, y_test, wel)"
   ]
  }
 ],
 "metadata": {
  "colab": {
   "provenance": []
  },
  "kernelspec": {
   "display_name": "Python 3",
   "language": "python",
   "name": "python3"
  },
  "language_info": {
   "codemirror_mode": {
    "name": "ipython",
    "version": 3
   },
   "file_extension": ".py",
   "mimetype": "text/x-python",
   "name": "python",
   "nbconvert_exporter": "python",
   "pygments_lexer": "ipython3",
   "version": "3.12.0"
  }
 },
 "nbformat": 4,
 "nbformat_minor": 5
}
